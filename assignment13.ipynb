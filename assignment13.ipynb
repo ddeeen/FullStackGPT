{
 "cells": [
  {
   "cell_type": "code",
   "execution_count": 2,
   "metadata": {},
   "outputs": [],
   "source": [
    "from langchain.chat_models import ChatOpenAI\n",
    "from langchain.memory import ConversationBufferMemory\n",
    "from langchain.document_loaders import UnstructuredFileLoader\n",
    "from langchain.text_splitter import CharacterTextSplitter\n",
    "from langchain.embeddings import OpenAIEmbeddings, CacheBackedEmbeddings\n",
    "from langchain.storage import LocalFileStore\n",
    "from langchain.prompts import ChatPromptTemplate, MessagesPlaceholder\n",
    "from langchain.schema.runnable import RunnablePassthrough\n",
    "from langchain.vectorstores import FAISS\n",
    "\n",
    "\n",
    "llm = ChatOpenAI(\n",
    "    temperature=0.1,\n",
    "    model=\"gpt-4o-mini\"\n",
    ")\n",
    "memory = ConversationBufferMemory(\n",
    "    return_messages=True,\n",
    ")\n",
    "\n",
    "loader = UnstructuredFileLoader(\"./files/document.txt\")\n",
    "splitter = CharacterTextSplitter.from_tiktoken_encoder(\n",
    "    separator=\"\\n\",\n",
    "    chunk_size=600,\n",
    "    chunk_overlap=100,\n",
    ")\n",
    "docs = loader.load_and_split(text_splitter=splitter)\n",
    "embeddings = OpenAIEmbeddings()\n",
    "cache_dir = LocalFileStore(\"./.cache/\")\n",
    "cache_embeddings = CacheBackedEmbeddings.from_bytes_store(embeddings, cache_dir)\n",
    "vectorstores = FAISS.from_documents(docs, cache_embeddings)\n",
    "retriever = vectorstores.as_retriever()\n"
   ]
  },
  {
   "cell_type": "code",
   "execution_count": 11,
   "metadata": {},
   "outputs": [],
   "source": [
    "template = ChatPromptTemplate.from_messages([\n",
    "    (\"system\", \n",
    "     \"\"\"\n",
    "     You're a helpful assistant. Answer questions using only the following context.\n",
    "     If you don't know the answer just say you don't know, don't make it up.\n",
    "     ------\n",
    "     {context}\n",
    "     ------\n",
    "     \"\"\"),\n",
    "     (\"system\", \"Below is the content of the conversation so far.\"),\n",
    "     MessagesPlaceholder(variable_name=\"history\"),\n",
    "     (\"human\", \"{question}\")\n",
    "])\n",
    "\n",
    "def load_memory(_):\n",
    "    return memory.load_memory_variables({})[\"history\"]\n",
    "# chain = RunnablePassthrough.assign(history_test=load_memory) | template | llm\n",
    "# def invoke_chain(question):\n",
    "#   result = chain.invoke({\"question\":question})\n",
    "#   memory.save_context(\n",
    "#     {\"input\":question},\n",
    "#     {\"output\": result.content},\n",
    "#   )\n",
    "#   print(result)\n",
    "\n",
    "# final_chain = {\"context\":map_chain, \"question\":RunnablePassthrough()} | final_template | llm\n",
    "# final_chain.invoke(\"Where does Winston go to work?\")\n",
    "chain = {\"history\":load_memory, \"context\":retriever, \"question\":RunnablePassthrough()} | template | llm\n",
    "# chain = RunnablePassthrough.assign(history=load_memory, context=retriever) | template | llm\n",
    "\n",
    "def chain_invoke(question):\n",
    "    result = chain.invoke(question)\n",
    "    print(result)\n",
    "    memory.save_context({\"input\": question}, {\"output\": result.content})"
   ]
  },
  {
   "cell_type": "code",
   "execution_count": 12,
   "metadata": {},
   "outputs": [
    {
     "name": "stdout",
     "output_type": "stream",
     "text": [
      "content='According to the context, Winston believes that Aaronson, along with Jones and Rutherford, is guilty of the crimes they were charged with, despite having a memory that disproves their guilt. He concludes that he had never seen the photograph that disproved their guilt and that it had never existed; he had invented it.'\n"
     ]
    }
   ],
   "source": [
    "chain_invoke(\"Is Aaronson guilty?\")"
   ]
  },
  {
   "cell_type": "code",
   "execution_count": 13,
   "metadata": {},
   "outputs": [
    {
     "name": "stdout",
     "output_type": "stream",
     "text": [
      "content='Winston traced \"2+2=5\" in the dust on the table.'\n"
     ]
    }
   ],
   "source": [
    "chain_invoke(\"What message did he write in the table?\")"
   ]
  },
  {
   "cell_type": "code",
   "execution_count": 14,
   "metadata": {},
   "outputs": [
    {
     "name": "stdout",
     "output_type": "stream",
     "text": [
      "content='Julia is a character that Winston loves deeply. In the context provided, she is someone with whom Winston shares a romantic relationship, and he expresses a strong emotional connection to her, even in moments of despair and fear.'\n"
     ]
    }
   ],
   "source": [
    "chain_invoke(\"Who is Julia?\")"
   ]
  },
  {
   "cell_type": "code",
   "execution_count": 15,
   "metadata": {},
   "outputs": [
    {
     "data": {
      "text/plain": [
       "{'history': [HumanMessage(content='Is Aaronson guilty?'),\n",
       "  AIMessage(content='According to the context, Winston believes that Aaronson, along with Jones and Rutherford, is guilty of the crimes they were charged with, despite having a memory that disproves their guilt. He concludes that he had never seen the photograph that disproved their guilt and that it had never existed; he had invented it.'),\n",
       "  HumanMessage(content='What message did he write in the table?'),\n",
       "  AIMessage(content='Winston traced \"2+2=5\" in the dust on the table.'),\n",
       "  HumanMessage(content='Who is Julia?'),\n",
       "  AIMessage(content='Julia is a character that Winston loves deeply. In the context provided, she is someone with whom Winston shares a romantic relationship, and he expresses a strong emotional connection to her, even in moments of despair and fear.')]}"
      ]
     },
     "execution_count": 15,
     "metadata": {},
     "output_type": "execute_result"
    }
   ],
   "source": [
    "memory.load_memory_variables({})"
   ]
  },
  {
   "cell_type": "code",
   "execution_count": 16,
   "metadata": {},
   "outputs": [
    {
     "name": "stdout",
     "output_type": "stream",
     "text": [
      "content='Your first question was, \"Is Aaronson guilty?\"'\n"
     ]
    }
   ],
   "source": [
    "chain_invoke(\"What was my first question?\")"
   ]
  }
 ],
 "metadata": {
  "kernelspec": {
   "display_name": "envGPT",
   "language": "python",
   "name": "python3"
  },
  "language_info": {
   "codemirror_mode": {
    "name": "ipython",
    "version": 3
   },
   "file_extension": ".py",
   "mimetype": "text/x-python",
   "name": "python",
   "nbconvert_exporter": "python",
   "pygments_lexer": "ipython3",
   "version": "3.11.6"
  }
 },
 "nbformat": 4,
 "nbformat_minor": 2
}
