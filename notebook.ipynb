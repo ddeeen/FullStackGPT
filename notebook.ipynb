{
 "cells": [
  {
   "cell_type": "code",
   "execution_count": 49,
   "metadata": {},
   "outputs": [
    {
     "name": "stdout",
     "output_type": "stream",
     "text": [
      "✈️🔥🎶"
     ]
    }
   ],
   "source": [
    "from langchain.chat_models import ChatOpenAI\n",
    "from langchain.prompts import FewShotChatMessagePromptTemplate, ChatPromptTemplate, MessagesPlaceholder\n",
    "from langchain.callbacks import StreamingStdOutCallbackHandler\n",
    "from langchain.memory import ConversationBufferWindowMemory\n",
    "from langchain.schema.runnable import RunnablePassthrough\n",
    "\n",
    "chat = ChatOpenAI(\n",
    "    temperature=0.1,\n",
    "    streaming=True,\n",
    "    callbacks=[StreamingStdOutCallbackHandler(), ],\n",
    "    model=\"gpt-4o-mini\"\n",
    ")\n",
    "\n",
    "memory = ConversationBufferWindowMemory(\n",
    "    return_messages=True,\n",
    "    k=4\n",
    ")\n",
    "\n",
    "examples = [\n",
    "    {\n",
    "    \"movie\": \"Inception\",\n",
    "    \"answer\": \"\"\"\n",
    "🌌🌀🧠\n",
    "\"\"\"\n",
    "}, \n",
    "{\n",
    "    \"movie\": \"Parasite\",\n",
    "    \"answer\": \"\"\"\n",
    "🏠🌧️🍜\n",
    "\"\"\"\n",
    "},\n",
    "{\n",
    "    \"movie\": \"The Grand Budapest Hotel\",\n",
    "    \"answer\": \"\"\"\n",
    "🏨🎨🕰️\n",
    "\"\"\"\n",
    "},\n",
    "{\n",
    "    \"movie\": \"The Dark Knight\",\n",
    "    \"answer\": \"\"\"\n",
    "🦇🃏🌆\n",
    "\"\"\"\n",
    "}]\n",
    "\n",
    "example_prompt = ChatPromptTemplate.from_messages([\n",
    "    (\"human\", \"Describe {movie} in three emojis?\"),\n",
    "    (\"ai\", \"{answer}\")\n",
    "])\n",
    "\n",
    "example_prompt = FewShotChatMessagePromptTemplate(\n",
    "    example_prompt=example_prompt,\n",
    "    examples=examples,\n",
    ")\n",
    "\n",
    "example_prompt = ChatPromptTemplate.from_messages([\n",
    "    example_prompt,\n",
    "    MessagesPlaceholder(variable_name=\"history\"),\n",
    "    (\"human\", \"{movie}\")\n",
    "])\n",
    "\n",
    "find_prompt = ChatPromptTemplate.from_messages([\n",
    "    MessagesPlaceholder(variable_name=\"history\"),\n",
    "    (\"human\", \"{question}\")\n",
    "])\n",
    "\n",
    "def load_memory(_):\n",
    "    return memory.load_memory_variables({})[\"history\"]\n",
    "\n",
    "example_chain = RunnablePassthrough.assign(history=load_memory) | example_prompt | chat\n",
    "find_chain = RunnablePassthrough.assign(history=load_memory) | find_prompt | chat\n",
    "\n",
    "def invoke_chain(input):\n",
    "    result = example_chain.invoke({\"movie\":input})\n",
    "    memory.save_context({\"input\": input}, {\"output\": result.content})\n",
    "\n",
    "invoke_chain(\"Top Gun\")\n"
   ]
  },
  {
   "cell_type": "code",
   "execution_count": 50,
   "metadata": {},
   "outputs": [
    {
     "name": "stdout",
     "output_type": "stream",
     "text": [
      "👨‍👦🍝🔫"
     ]
    }
   ],
   "source": [
    "invoke_chain(\"Godfather\")"
   ]
  },
  {
   "cell_type": "code",
   "execution_count": 51,
   "metadata": {},
   "outputs": [
    {
     "name": "stdout",
     "output_type": "stream",
     "text": [
      "🥁⚡🎶"
     ]
    }
   ],
   "source": [
    "invoke_chain(\"Whiplash\")"
   ]
  },
  {
   "cell_type": "code",
   "execution_count": 52,
   "metadata": {},
   "outputs": [
    {
     "name": "stdout",
     "output_type": "stream",
     "text": [
      "🦸‍♂️🦸‍♀️🌍"
     ]
    }
   ],
   "source": [
    "invoke_chain(\"The Avengers\")"
   ]
  },
  {
   "cell_type": "code",
   "execution_count": 53,
   "metadata": {},
   "outputs": [
    {
     "name": "stdout",
     "output_type": "stream",
     "text": [
      "The movie you first asked about is \"Top Gun.\""
     ]
    },
    {
     "data": {
      "text/plain": [
       "AIMessageChunk(content='The movie you first asked about is \"Top Gun.\"')"
      ]
     },
     "execution_count": 53,
     "metadata": {},
     "output_type": "execute_result"
    }
   ],
   "source": [
    "find_chain.invoke({\"question\":\"Please tell me the name of the movie I first asked.\"})"
   ]
  },
  {
   "cell_type": "code",
   "execution_count": 54,
   "metadata": {},
   "outputs": [
    {
     "name": "stdout",
     "output_type": "stream",
     "text": [
      "🤖🦸‍♂️💥"
     ]
    }
   ],
   "source": [
    "invoke_chain(\"Iron Man\")"
   ]
  },
  {
   "cell_type": "code",
   "execution_count": 55,
   "metadata": {},
   "outputs": [
    {
     "name": "stdout",
     "output_type": "stream",
     "text": [
      "The movie you first asked about is \"The Godfather.\""
     ]
    },
    {
     "data": {
      "text/plain": [
       "AIMessageChunk(content='The movie you first asked about is \"The Godfather.\"')"
      ]
     },
     "execution_count": 55,
     "metadata": {},
     "output_type": "execute_result"
    }
   ],
   "source": [
    "find_chain.invoke({\"question\":\"Please tell me the name of the movie I first asked.\"})"
   ]
  },
  {
   "cell_type": "code",
   "execution_count": 56,
   "metadata": {},
   "outputs": [
    {
     "data": {
      "text/plain": [
       "{'history': [HumanMessage(content='Godfather'),\n",
       "  AIMessage(content='👨\\u200d👦🍝🔫'),\n",
       "  HumanMessage(content='Whiplash'),\n",
       "  AIMessage(content='🥁⚡🎶'),\n",
       "  HumanMessage(content='The Avengers'),\n",
       "  AIMessage(content='🦸\\u200d♂️🦸\\u200d♀️🌍'),\n",
       "  HumanMessage(content='Iron Man'),\n",
       "  AIMessage(content='🤖🦸\\u200d♂️💥')]}"
      ]
     },
     "execution_count": 56,
     "metadata": {},
     "output_type": "execute_result"
    }
   ],
   "source": [
    "memory.load_memory_variables({})"
   ]
  }
 ],
 "metadata": {
  "kernelspec": {
   "display_name": "envGPT",
   "language": "python",
   "name": "python3"
  },
  "language_info": {
   "codemirror_mode": {
    "name": "ipython",
    "version": 3
   },
   "file_extension": ".py",
   "mimetype": "text/x-python",
   "name": "python",
   "nbconvert_exporter": "python",
   "pygments_lexer": "ipython3",
   "version": "3.11.6"
  }
 },
 "nbformat": 4,
 "nbformat_minor": 2
}
