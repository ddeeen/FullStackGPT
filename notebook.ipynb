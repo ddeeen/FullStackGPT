{
 "cells": [
  {
   "cell_type": "code",
   "execution_count": 2,
   "metadata": {},
   "outputs": [
    {
     "name": "stdout",
     "output_type": "stream",
     "text": [
      "In the realm of code, where logic reigns supreme,\n",
      "There lies a language, a programmer's dream.\n",
      "JavaScript, the key to web's design,\n",
      "Unleashing power with each line.\n",
      "\n",
      "From variables to functions, it weaves its spell,\n",
      "Creating interactivity, where stories dwell.\n",
      "DOM manipulation, events that spark,\n",
      "Bringing websites to life, lighting up the dark.\n",
      "\n",
      "With loops and conditions, it dances and sings,\n",
      "A symphony of syntax, where creativity springs.\n",
      "Objects and arrays, building blocks in hand,\n",
      "Crafting digital worlds, where imagination expands.\n",
      "\n",
      "So let us embrace this language of the web,\n",
      "A tool of creation, a virtual ebb.\n",
      "JavaScript, a poet in its own right,\n",
      "Weaving tales of pixels, in the digital light.This poem beautifully captures the essence of JavaScript as a programming language. The imagery used is vivid and engaging, painting a picture of a world where code comes alive and creates digital wonders. The poet effectively conveys the power and versatility of JavaScript through references to variables, functions, DOM manipulation, loops, and conditions. The language is lyrical and flows well, mirroring the rhythmic nature of coding itself. Overall, the poem is a creative and insightful exploration of the artistry and magic of programming with JavaScript."
     ]
    },
    {
     "data": {
      "text/plain": [
       "AIMessageChunk(content='This poem beautifully captures the essence of JavaScript as a programming language. The imagery used is vivid and engaging, painting a picture of a world where code comes alive and creates digital wonders. The poet effectively conveys the power and versatility of JavaScript through references to variables, functions, DOM manipulation, loops, and conditions. The language is lyrical and flows well, mirroring the rhythmic nature of coding itself. Overall, the poem is a creative and insightful exploration of the artistry and magic of programming with JavaScript.')"
      ]
     },
     "execution_count": 2,
     "metadata": {},
     "output_type": "execute_result"
    }
   ],
   "source": [
    "from langchain.chat_models import ChatOpenAI\n",
    "from langchain.prompts import ChatPromptTemplate\n",
    "from langchain.callbacks import StreamingStdOutCallbackHandler\n",
    "\n",
    "chat = ChatOpenAI(\n",
    "    temperature=0.1,\n",
    "    streaming=True,\n",
    "    callbacks=[StreamingStdOutCallbackHandler(), ]\n",
    ")\n",
    "\n",
    "poet_template = ChatPromptTemplate.from_messages([\n",
    "    (\"system\", \"You are a poet. You don’t write anything other than poetry.\"),\n",
    "    (\"human\", \"Write me a poem. The theme of the poem is {language}.\")\n",
    "])\n",
    "\n",
    "poet_chain = poet_template | chat\n",
    "\n",
    "explain_template = ChatPromptTemplate.from_messages([\n",
    "    (\"system\", \"You are a critic. Read the poem and evaluate what the poem is like.\"),\n",
    "    (\"human\", \"{poem}\")\n",
    "])\n",
    "\n",
    "explain_chain = explain_template | chat\n",
    "\n",
    "final_chain = {\"poem\": poet_chain} | explain_chain\n",
    "\n",
    "final_chain.invoke({\n",
    "    \"language\":\"javascript\"\n",
    "})"
   ]
  },
  {
   "cell_type": "code",
   "execution_count": null,
   "metadata": {},
   "outputs": [],
   "source": []
  }
 ],
 "metadata": {
  "kernelspec": {
   "display_name": "envGPT",
   "language": "python",
   "name": "python3"
  },
  "language_info": {
   "codemirror_mode": {
    "name": "ipython",
    "version": 3
   },
   "file_extension": ".py",
   "mimetype": "text/x-python",
   "name": "python",
   "nbconvert_exporter": "python",
   "pygments_lexer": "ipython3",
   "version": "3.11.6"
  }
 },
 "nbformat": 4,
 "nbformat_minor": 2
}
