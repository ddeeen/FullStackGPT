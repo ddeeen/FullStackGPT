{
 "cells": [
  {
   "cell_type": "code",
   "execution_count": 4,
   "metadata": {},
   "outputs": [
    {
     "name": "stdout",
     "output_type": "stream",
     "text": [
      "\n",
      "🌊👧🐉"
     ]
    },
    {
     "data": {
      "text/plain": [
       "AIMessageChunk(content='\\n🌊👧🐉')"
      ]
     },
     "execution_count": 4,
     "metadata": {},
     "output_type": "execute_result"
    }
   ],
   "source": [
    "from langchain.chat_models import ChatOpenAI\n",
    "from langchain.prompts import FewShotChatMessagePromptTemplate, ChatPromptTemplate\n",
    "from langchain.callbacks import StreamingStdOutCallbackHandler\n",
    "from langchain.memory import ConversationBufferWindowMemory\n",
    "\n",
    "chat = ChatOpenAI(\n",
    "    temperature=0.1,\n",
    "    streaming=True,\n",
    "    callbacks=[StreamingStdOutCallbackHandler(), ],\n",
    "    model=\"gpt-4o-mini\"\n",
    ")\n",
    "\n",
    "memory = ConversationBufferWindowMemory(\n",
    "    return_message=True\n",
    ")\n",
    "\n",
    "examples = [\n",
    "    {\n",
    "    \"movie\": \"Inception\",\n",
    "    \"answer\": \"\"\"\n",
    "🌌🌀🧠\n",
    "\"\"\"\n",
    "}, \n",
    "{\n",
    "    \"movie\": \"Parasite\",\n",
    "    \"answer\": \"\"\"\n",
    "🏠🌧️🍜\n",
    "\"\"\"\n",
    "},\n",
    "{\n",
    "    \"movie\": \"The Grand Budapest Hotel\",\n",
    "    \"answer\": \"\"\"\n",
    "🏨🎨🕰️\n",
    "\"\"\"\n",
    "},\n",
    "{\n",
    "    \"movie\": \"The Dark Knight\",\n",
    "    \"answer\": \"\"\"\n",
    "🦇🃏🌆\n",
    "\"\"\"\n",
    "}]\n",
    "\n",
    "example_prompt = ChatPromptTemplate.from_messages([\n",
    "    (\"human\", \"Describe {movie} in three emojis?\"),\n",
    "    (\"ai\", \"{answer}\")\n",
    "])\n",
    "\n",
    "example_prompt = FewShotChatMessagePromptTemplate(\n",
    "    example_prompt=example_prompt,\n",
    "    examples=examples,\n",
    ")\n",
    "\n",
    "final_prompt = ChatPromptTemplate.from_messages([\n",
    "    example_prompt,\n",
    "    (\"human\", \"Describe {movie} in three emojis?\"),\n",
    "])\n",
    "\n",
    "chain = final_prompt | chat\n",
    "chain.invoke({\n",
    "    \"movie\":\"Spirited Away\"\n",
    "})"
   ]
  }
 ],
 "metadata": {
  "kernelspec": {
   "display_name": "envGPT",
   "language": "python",
   "name": "python3"
  },
  "language_info": {
   "codemirror_mode": {
    "name": "ipython",
    "version": 3
   },
   "file_extension": ".py",
   "mimetype": "text/x-python",
   "name": "python",
   "nbconvert_exporter": "python",
   "pygments_lexer": "ipython3",
   "version": "3.11.6"
  }
 },
 "nbformat": 4,
 "nbformat_minor": 2
}
