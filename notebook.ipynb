{
 "cells": [
  {
   "cell_type": "code",
   "execution_count": 8,
   "metadata": {},
   "outputs": [
    {
     "name": "stdout",
     "output_type": "stream",
     "text": [
      "ai: \n",
      "    Director: Christopher Nolan\n",
      "    Main Cast: Christian Bale, Heath Ledger, Aaron Eckhart\n",
      "    Budget: $185 million\n",
      "    Box Office: $1.005 billion\n",
      "    Genre: Action, Crime, Drama\n",
      "    Synopsis: Batman faces his greatest challenge yet as he takes on the Joker, a criminal mastermind who wreaks havoc on Gotham City. With the help of District Attorney Harvey Dent, Batman must navigate a web of chaos and corruption to save the city from destruction."
     ]
    },
    {
     "data": {
      "text/plain": [
       "AIMessageChunk(content='ai: \\n    Director: Christopher Nolan\\n    Main Cast: Christian Bale, Heath Ledger, Aaron Eckhart\\n    Budget: $185 million\\n    Box Office: $1.005 billion\\n    Genre: Action, Crime, Drama\\n    Synopsis: Batman faces his greatest challenge yet as he takes on the Joker, a criminal mastermind who wreaks havoc on Gotham City. With the help of District Attorney Harvey Dent, Batman must navigate a web of chaos and corruption to save the city from destruction.')"
      ]
     },
     "execution_count": 8,
     "metadata": {},
     "output_type": "execute_result"
    }
   ],
   "source": [
    "from langchain.chat_models import ChatOpenAI\n",
    "from langchain.prompts import FewShotPromptTemplate, FewShotChatMessagePromptTemplate, PromptTemplate, ChatPromptTemplate\n",
    "from langchain.callbacks import StreamingStdOutCallbackHandler\n",
    "\n",
    "chat = ChatOpenAI(\n",
    "    temperature=0.1,\n",
    "    streaming=True,\n",
    "    callbacks=[StreamingStdOutCallbackHandler(), ],\n",
    "    model=\"gpt-4o-mini\"\n",
    ")\n",
    "\n",
    "examples = [\n",
    "    {\n",
    "    \"movie\": \"Inception\",\n",
    "    \"answer\": \"\"\"\n",
    "🌌🌀🧠\n",
    "\"\"\"\n",
    "}, \n",
    "{\n",
    "    \"movie\": \"Parasite\",\n",
    "    \"answer\": \"\"\"\n",
    "🏠🌧️🍜\n",
    "\"\"\"\n",
    "},\n",
    "{\n",
    "    \"movie\": \"The Grand Budapest Hotel\",\n",
    "    \"answer\": \"\"\"\n",
    "🏨🎨🕰️\n",
    "\"\"\"\n",
    "},\n",
    "{\n",
    "    \"movie\": \"The Dark Knight\",\n",
    "    \"answer\": \"\"\"\n",
    "🦇🃏🌆\n",
    "\"\"\"\n",
    "}]\n",
    "\n",
    "example_template = \"\"\"\n",
    "human: Describe {movie} in three emojis?\n",
    "ai: {answer}\n",
    "\"\"\"\n",
    "example_prompt = PromptTemplate.from_template(example_template)\n",
    "\n",
    "example_prompt = FewShotPromptTemplate(\n",
    "    example_prompt=example_prompt,\n",
    "    examples=examples,\n",
    "    suffix=\"Do you know about {movie}?\",\n",
    "    input_variables=[\"movie\"]\n",
    ")\n",
    "\n",
    "chain = example_prompt | chat\n",
    "chain.invoke({\n",
    "    \"movie\":\"The Dark Knight\"\n",
    "})"
   ]
  }
 ],
 "metadata": {
  "kernelspec": {
   "display_name": "envGPT",
   "language": "python",
   "name": "python3"
  },
  "language_info": {
   "codemirror_mode": {
    "name": "ipython",
    "version": 3
   },
   "file_extension": ".py",
   "mimetype": "text/x-python",
   "name": "python",
   "nbconvert_exporter": "python",
   "pygments_lexer": "ipython3",
   "version": "3.11.6"
  }
 },
 "nbformat": 4,
 "nbformat_minor": 2
}
