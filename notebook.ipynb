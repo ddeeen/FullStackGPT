{
 "cells": [
  {
   "cell_type": "code",
   "execution_count": 7,
   "metadata": {},
   "outputs": [
    {
     "name": "stdout",
     "output_type": "stream",
     "text": [
      "\n",
      "    Director: Christopher Nolan\n",
      "    Main Cast: Christian Bale, Heath Ledger, Aaron Eckhart\n",
      "    Budget: $185 million\n",
      "    Box Office: $1.005 billion\n",
      "    Genre: Action, Crime, Drama\n",
      "    Synopsis: Batman faces his greatest challenge yet as he battles the Joker, a sadistic criminal mastermind who seeks to create chaos in Gotham City. The Dark Knight must confront his own inner demons while trying to save the city from destruction.\n"
     ]
    },
    {
     "data": {
      "text/plain": [
       "'\\nexample_template = \"\"\"\\nhuman: Do you know about {movie}?\\nAI: {answer}\\n\"\"\"\\n\\nexample_prompt = PromptTemplate.from_template(example_template)\\n\\nprompt = FewShotPromptTemplate(\\n    example_prompt=example_prompt,\\n    examples=examples,\\n    suffix=\"Do you know about {movie}?\",\\n    input_variables=[\"movie\"]\\n)\\n\\nmovie_chain = prompt | chat\\n\\nmovie_chain.invoke({\\n    \"movie\":\"Interstellar\"\\n})\\n'"
      ]
     },
     "execution_count": 7,
     "metadata": {},
     "output_type": "execute_result"
    }
   ],
   "source": [
    "from langchain.chat_models import ChatOpenAI\n",
    "from langchain.prompts import FewShotPromptTemplate, FewShotChatMessagePromptTemplate, PromptTemplate, ChatPromptTemplate\n",
    "from langchain.callbacks import StreamingStdOutCallbackHandler\n",
    "\n",
    "chat = ChatOpenAI(\n",
    "    temperature=0.1,\n",
    "    streaming=True,\n",
    "    callbacks=[StreamingStdOutCallbackHandler(), ],\n",
    ")\n",
    "\n",
    "examples = [\n",
    "    {\n",
    "    \"movie\": \"Inception\",\n",
    "    \"answer\": \"\"\"\n",
    "    Director: Christopher Nolan\n",
    "    Main Cast: Leonardo DiCaprio, Joseph Gordon-Levitt, Ellen Page\n",
    "    Budget: $160 million\n",
    "    Box Office: $836.8 million\n",
    "    Genre: Sci-Fi, Thriller\n",
    "    Synopsis: A group of experts who specialize in extracting secrets from within dreams take on an almost impossible task: planting an idea into a target's subconscious. As they delve deeper, the line between reality and dreams blurs.\n",
    "\"\"\"\n",
    "}, \n",
    "{\n",
    "    \"movie\": \"The Grand Budapest Hotel\",\n",
    "    \"answer\": \"\"\"\n",
    "    Director: Wes Anderson\n",
    "    Main Cast: Ralph Fiennes, Tony Revolori, Saoirse Ronan\n",
    "    Budget: $25 million\n",
    "    Box Office: $172.9 million\n",
    "    Genre: Comedy, Drama\n",
    "    Synopsis: Set in 1930s Europe, the story follows the adventures of a famous hotel's concierge and a young lobby boy who become embroiled in a murder mystery involving a wealthy guest, a stolen painting, and a family fortune.\n",
    "\"\"\"\n",
    "},\n",
    "{\n",
    "    \"movie\": \"The Social Network\",\n",
    "    \"answer\": \"\"\"\n",
    "    Director: David Fincher\n",
    "    Main Cast: Jesse Eisenberg, Andrew Garfield, Justin Timberlake\n",
    "    Budget: $40 million\n",
    "    Box Office: $224.9 million\n",
    "    Genre: Drama, Biographical\n",
    "    Synopsis: The film chronicles the rise of Mark Zuckerberg from a Harvard student to the co-founder of Facebook. As the social network grows, so do the personal and legal battles, exposing the costs of ambition and innovation.\n",
    "\"\"\"\n",
    "}]\n",
    "\n",
    "example_template = \"\"\"\n",
    "human: Do you know about {movie}?\n",
    "ai: {answer}\n",
    "\"\"\"\n",
    "example_prompt = PromptTemplate.from_template(example_template)\n",
    "\n",
    "example_prompt = FewShotPromptTemplate(\n",
    "    example_prompt=example_prompt,\n",
    "    examples=examples,\n",
    "    suffix=\"Do you know about {movie}?\",\n",
    "    input_variables=[\"movie\"]\n",
    ")\n",
    "\n",
    "chain = example_prompt | chat\n",
    "chain.invoke({\n",
    "    \"movie\":\"The Dark Knight\"\n",
    "})"
   ]
  }
 ],
 "metadata": {
  "kernelspec": {
   "display_name": "envGPT",
   "language": "python",
   "name": "python3"
  },
  "language_info": {
   "codemirror_mode": {
    "name": "ipython",
    "version": 3
   },
   "file_extension": ".py",
   "mimetype": "text/x-python",
   "name": "python",
   "nbconvert_exporter": "python",
   "pygments_lexer": "ipython3",
   "version": "3.11.6"
  }
 },
 "nbformat": 4,
 "nbformat_minor": 2
}
