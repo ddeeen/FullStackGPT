{
 "cells": [
  {
   "cell_type": "code",
   "execution_count": 28,
   "metadata": {},
   "outputs": [
    {
     "name": "stdout",
     "output_type": "stream",
     "text": [
      "\n",
      "🌊👧🐉"
     ]
    }
   ],
   "source": [
    "from langchain.chat_models import ChatOpenAI\n",
    "from langchain.prompts import FewShotChatMessagePromptTemplate, ChatPromptTemplate, MessagesPlaceholder\n",
    "from langchain.callbacks import StreamingStdOutCallbackHandler\n",
    "from langchain.memory import ConversationBufferWindowMemory\n",
    "from langchain.schema.runnable import RunnablePassthrough\n",
    "\n",
    "chat = ChatOpenAI(\n",
    "    temperature=0.1,\n",
    "    streaming=True,\n",
    "    callbacks=[StreamingStdOutCallbackHandler(), ],\n",
    "    model=\"gpt-4o-mini\"\n",
    ")\n",
    "\n",
    "memory = ConversationBufferWindowMemory(\n",
    "    return_messages=True,\n",
    "    k=4\n",
    ")\n",
    "\n",
    "examples = [\n",
    "    {\n",
    "    \"question\": \"Describe Inception in three emojis?\",\n",
    "    \"answer\": \"\"\"\n",
    "🌌🌀🧠\n",
    "\"\"\"\n",
    "}, \n",
    "{\n",
    "    \"question\": \"Describe Parasite in three emojis?\",\n",
    "    \"answer\": \"\"\"\n",
    "🏠🌧️🍜\n",
    "\"\"\"\n",
    "},\n",
    "{\n",
    "    \"question\": \"Describe The Grand Budapest Hotel in three emojis?\",\n",
    "    \"answer\": \"\"\"\n",
    "🏨🎨🕰️\n",
    "\"\"\"\n",
    "},\n",
    "{\n",
    "    \"question\": \"Describe The Dark Knight in three emojis?\",\n",
    "    \"answer\": \"\"\"\n",
    "🦇🃏🌆\n",
    "\"\"\"\n",
    "}]\n",
    "\n",
    "example_prompt = ChatPromptTemplate.from_messages([\n",
    "    (\"human\", \"{question}\"),\n",
    "    (\"ai\", \"{answer}\")\n",
    "])\n",
    "\n",
    "example_prompt = FewShotChatMessagePromptTemplate(\n",
    "    example_prompt=example_prompt,\n",
    "    examples=examples,\n",
    ")\n",
    "\n",
    "final_prompt = ChatPromptTemplate.from_messages([\n",
    "    example_prompt,\n",
    "    MessagesPlaceholder(variable_name=\"history\"),\n",
    "    (\"human\", \"{question}\")\n",
    "])\n",
    "\n",
    "\n",
    "def load_memory(_):\n",
    "    return memory.load_memory_variables({})[\"history\"]\n",
    "\n",
    "chain = RunnablePassthrough.assign(history=load_memory) | final_prompt | chat\n",
    "\n",
    "def invoke_chain(input):\n",
    "    result = chain.invoke({\"question\":input})\n",
    "    memory.save_context({\"input\": input}, {\"output\": result.content})\n",
    "\n",
    "invoke_chain(\"Describe Spirited Away in three emojis?\")\n"
   ]
  },
  {
   "cell_type": "code",
   "execution_count": 29,
   "metadata": {},
   "outputs": [
    {
     "name": "stdout",
     "output_type": "stream",
     "text": [
      "✈️😎🔥"
     ]
    }
   ],
   "source": [
    "invoke_chain(\"Describe Top Gun in three emojis?\")"
   ]
  },
  {
   "cell_type": "code",
   "execution_count": 30,
   "metadata": {},
   "outputs": [
    {
     "name": "stdout",
     "output_type": "stream",
     "text": [
      "👨‍👧‍👦💼🔫"
     ]
    }
   ],
   "source": [
    "invoke_chain(\"Describe The Godfather in three emojis?\")"
   ]
  },
  {
   "cell_type": "code",
   "execution_count": 31,
   "metadata": {},
   "outputs": [
    {
     "name": "stdout",
     "output_type": "stream",
     "text": [
      "🥁🎶🔥"
     ]
    }
   ],
   "source": [
    "invoke_chain(\"Describe Whiplash in three emojis?\")"
   ]
  },
  {
   "cell_type": "code",
   "execution_count": 32,
   "metadata": {},
   "outputs": [
    {
     "name": "stdout",
     "output_type": "stream",
     "text": [
      "You previously asked for descriptions of \"Inception\" and \"Parasite.\""
     ]
    }
   ],
   "source": [
    "invoke_chain(\"Tell me two movies I asked for before.\")"
   ]
  }
 ],
 "metadata": {
  "kernelspec": {
   "display_name": "envGPT",
   "language": "python",
   "name": "python3"
  },
  "language_info": {
   "codemirror_mode": {
    "name": "ipython",
    "version": 3
   },
   "file_extension": ".py",
   "mimetype": "text/x-python",
   "name": "python",
   "nbconvert_exporter": "python",
   "pygments_lexer": "ipython3",
   "version": "3.11.6"
  }
 },
 "nbformat": 4,
 "nbformat_minor": 2
}
